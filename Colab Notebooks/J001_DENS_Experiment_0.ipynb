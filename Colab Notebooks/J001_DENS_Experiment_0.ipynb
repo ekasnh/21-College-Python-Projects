{
  "nbformat": 4,
  "nbformat_minor": 0,
  "metadata": {
    "colab": {
      "provenance": []
    },
    "kernelspec": {
      "name": "python3",
      "display_name": "Python 3"
    },
    "language_info": {
      "name": "python"
    }
  },
  "cells": [
    {
      "cell_type": "markdown",
      "source": [
        "**Name: Tanmay Chipkar**\n",
        "\n",
        "**Class: MBATech EXTC Sem 8**\n",
        "\n",
        "**Roll No: J012**\n",
        "\n",
        "**Experiment 0:  Familiarization with Python**"
      ],
      "metadata": {
        "id": "F93B-0DENo1z"
      }
    },
    {
      "cell_type": "markdown",
      "source": [
        "**1.\t To write a program to form a new string by exchanging first and last character of the original string**"
      ],
      "metadata": {
        "id": "tV16JJcfOa6i"
      }
    },
    {
      "cell_type": "code",
      "source": [
        "def swap(string):\n",
        "     \n",
        "    # storing the first character\n",
        "    start = string[0]\n",
        "     \n",
        "    # storing the last character\n",
        "    end = string[-1]\n",
        "     \n",
        "    swapped_string = end + string[1:-1] + start\n",
        "    print(swapped_string)"
      ],
      "metadata": {
        "id": "xHwx3tlVNrD-"
      },
      "execution_count": 2,
      "outputs": []
    },
    {
      "cell_type": "code",
      "source": [
        "a = input(\"Enter your string: \")\n",
        "swap(a)"
      ],
      "metadata": {
        "colab": {
          "base_uri": "https://localhost:8080/"
        },
        "id": "6Y82fA0gOjFK",
        "outputId": "6d23fb09-8859-4007-b7fd-11a162504b31"
      },
      "execution_count": 3,
      "outputs": [
        {
          "output_type": "stream",
          "name": "stdout",
          "text": [
            "Enter your string: Hello World\n",
            "dello WorlH\n"
          ]
        }
      ]
    },
    {
      "cell_type": "markdown",
      "source": [
        "**2.\tTo write a program to reverse a given number using a while loop**"
      ],
      "metadata": {
        "id": "JNRE8yWkOdZh"
      }
    },
    {
      "cell_type": "code",
      "source": [
        "# input from the user\n",
        "number = int(input(\"Enter the integer number: \"))"
      ],
      "metadata": {
        "colab": {
          "base_uri": "https://localhost:8080/"
        },
        "id": "36-jdyexOpzJ",
        "outputId": "107a5032-52a2-404d-b9b5-4102bb41845c"
      },
      "execution_count": 4,
      "outputs": [
        {
          "name": "stdout",
          "output_type": "stream",
          "text": [
            "Enter the integer number: 23546716554\n"
          ]
        }
      ]
    },
    {
      "cell_type": "code",
      "source": [
        "# Initiate value to null  \n",
        "revs_number = 0 "
      ],
      "metadata": {
        "id": "xxiXSf9iOs2Z"
      },
      "execution_count": 7,
      "outputs": []
    },
    {
      "cell_type": "code",
      "source": [
        "while (number > 0):  \n",
        "    # Logic  \n",
        "    remainder = number % 10  \n",
        "    revs_number = (revs_number * 10) + remainder  \n",
        "    number = number // 10  "
      ],
      "metadata": {
        "id": "5_Whk2i_OywG"
      },
      "execution_count": 8,
      "outputs": []
    },
    {
      "cell_type": "code",
      "source": [
        "print(\"The reverse number is : {}\".format(revs_number))  "
      ],
      "metadata": {
        "colab": {
          "base_uri": "https://localhost:8080/"
        },
        "id": "pDgAScU6OzB-",
        "outputId": "a0078ea0-478d-40f8-f66a-b560734ab80e"
      },
      "execution_count": 9,
      "outputs": [
        {
          "output_type": "stream",
          "name": "stdout",
          "text": [
            "The reverse number is : 45561764532\n"
          ]
        }
      ]
    },
    {
      "cell_type": "markdown",
      "source": [
        "**6.\tWrite a function called add_int that will take two integers as input and return its sum as output**"
      ],
      "metadata": {
        "id": "SRXI6biOPC25"
      }
    },
    {
      "cell_type": "code",
      "source": [
        "def add_int(a,b):\n",
        "  c = a+b\n",
        "  print(\"Sum of the two integers is: \",c)"
      ],
      "metadata": {
        "id": "fRnVntKlO0UG"
      },
      "execution_count": 10,
      "outputs": []
    },
    {
      "cell_type": "code",
      "source": [
        "number1 = int(input(\"Enter the first integer: \"))\n",
        "number2 = int(input(\"Enter the second integer: \"))\n",
        "add_int(number1,number2)"
      ],
      "metadata": {
        "colab": {
          "base_uri": "https://localhost:8080/"
        },
        "id": "_KdVAILsPFvG",
        "outputId": "5a0b0aa2-d943-493b-dc6d-393614b1bc39"
      },
      "execution_count": 11,
      "outputs": [
        {
          "output_type": "stream",
          "name": "stdout",
          "text": [
            "Enter the first integer: 234565\n",
            "Enter the second integer: 7665432\n",
            "Sum of the two integers is:  7899997\n"
          ]
        }
      ]
    },
    {
      "cell_type": "markdown",
      "source": [
        "**8.\tTo write a Python program to print keys and values of the dictionary using dict.keys(), dict.items()**"
      ],
      "metadata": {
        "id": "OpKwzA0lPEcZ"
      }
    },
    {
      "cell_type": "code",
      "source": [
        "def dict_print(dict1):\n",
        "  print(dict1.keys())\n",
        "  print(dict1.items())"
      ],
      "metadata": {
        "id": "pxGXpOqWPNOK"
      },
      "execution_count": 12,
      "outputs": []
    },
    {
      "cell_type": "code",
      "source": [
        "dict1 = {1:\"one\",2:\"two\",3:\"three\"}\n",
        "dict_print(dict1)"
      ],
      "metadata": {
        "colab": {
          "base_uri": "https://localhost:8080/"
        },
        "id": "cLI1cNIMPOtR",
        "outputId": "b6b04658-8246-467a-904c-8b100fa8acf8"
      },
      "execution_count": 13,
      "outputs": [
        {
          "output_type": "stream",
          "name": "stdout",
          "text": [
            "dict_keys([1, 2, 3])\n",
            "dict_items([(1, 'one'), (2, 'two'), (3, 'three')])\n"
          ]
        }
      ]
    },
    {
      "cell_type": "markdown",
      "source": [
        "**##Conclusion:**\n",
        "\n",
        "In this experiment, We wrote different programs and  revise the basics of python and google colab."
      ],
      "metadata": {
        "id": "i1pRRg5QPUaK"
      }
    }
  ]
}