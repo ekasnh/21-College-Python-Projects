{
  "nbformat": 4,
  "nbformat_minor": 0,
  "metadata": {
    "colab": {
      "provenance": []
    },
    "kernelspec": {
      "name": "python3",
      "display_name": "Python 3"
    },
    "language_info": {
      "name": "python"
    }
  },
  "cells": [
    {
      "cell_type": "markdown",
      "source": [
        "SVKM’s NMIMS University Mukesh Patel School of Technology Management & Engineering <br>\n",
        "**COURSE: Data Encryption and Network Security**"
      ],
      "metadata": {
        "id": "F4vYNqwqS4K4"
      }
    },
    {
      "cell_type": "markdown",
      "source": [
        "**Name: Tanmay Chipkar**\n",
        "\n",
        "**Class: MBATech EXTC Sem 8**\n",
        "\n",
        "**Roll No: J012**\n",
        "\n",
        "**Experiment 1** \n",
        "\n",
        "**AIM:**\n",
        "\n",
        "**a.\tTo implement Substitution Cipher and Caesar Cipher** \n",
        "\n",
        "**b.\tTo implement Transposition Cipher and Reverse Cipher**"
      ],
      "metadata": {
        "id": "nYQziAWBRRA5"
      }
    },
    {
      "cell_type": "markdown",
      "source": [
        "**ALGORITHM-** \n",
        "\n",
        "**Substitution Cipher and Caesar Cipher**\n",
        "1. \tEnter the plain text, P\n",
        "2.\tEnter the key, K\n",
        "3.\tEnter modulus, n. \n",
        "4.\tObtain cipher text as follows.  C= (p+k)mod n\n",
        "5.\tObtain deciphered text as follows. DC= (C-k)mod n\n",
        "\n",
        "**Transposition Cipher and Reverse Cipher**\n",
        "1.\tEnter the plain text\n",
        "2.\tEnter the positions by which the text has to be transposed\n",
        "3.\tApply the circular shift logic to obtain the Transposition Cipher.\n",
        "4.\tApply reverse logic to obtain the plain text back. \n",
        "\n"
      ],
      "metadata": {
        "id": "eOdVDzNjRnqw"
      }
    },
    {
      "cell_type": "code",
      "source": [
        "import string\n",
        "all_letters= string.ascii_letters                                     #ascii function takes single argument (numeric value given to different characters and symbols)\n",
        "print (all_letters)                                                   #Prints all letters, uppercase or lowercase\n",
        "\n",
        "dict1={}                                                              #Creating a dictionary for given alphabets\n",
        "key=input(\"enter the key: \")\n",
        "key=int(key)\n",
        "for i in range(len(all_letters)):\n",
        "    dict1[all_letters[i]]= all_letters[(i-key)%len(all_letters)]\n",
        "print(dict1)\n",
        "\n",
        "plain_txt= input(\"Enter the string to be encrypted: \")\n",
        "cipher_txt=[]\n",
        "\n",
        "#loop to generate cipher text\n",
        "for char in plain_txt:\n",
        "    if char in all_letters:\n",
        "        temp= dict1[char]\n",
        "        cipher_txt.append(temp)\n",
        "    else:\n",
        "        temp=char\n",
        "        cipher_txt.append(temp)\n",
        "cipher_txt= \"\".join(cipher_txt)\n",
        "print(\"Cipher text is\",cipher_txt)\n",
        "\n",
        "#Recovering plain text\n",
        "dict2={}                           \n",
        "for i in range(len(all_letters)):\n",
        "    dict2[all_letters[i]]= all_letters[(i+key)%(len(all_letters))]\n",
        "    \n",
        " ## loop to recover plain text\n",
        "decrypt_txt=[]\n",
        "for char in cipher_txt:\n",
        "    if char in all_letters:\n",
        "        temp= dict2[char]\n",
        "        decrypt_txt.append(temp)\n",
        "    else:\n",
        "        temp=char\n",
        "        decrypt_txt.append(temp)\n",
        "decrypt_txt= \"\".join(decrypt_txt)\n",
        "print(\"Recovered plain text is: \" ,decrypt_txt) "
      ],
      "metadata": {
        "colab": {
          "base_uri": "https://localhost:8080/"
        },
        "id": "p7gLyfrWR4wC",
        "outputId": "3b854eb9-5ca4-4043-857c-5bdebfdb673b"
      },
      "execution_count": 2,
      "outputs": [
        {
          "output_type": "stream",
          "name": "stdout",
          "text": [
            "abcdefghijklmnopqrstuvwxyzABCDEFGHIJKLMNOPQRSTUVWXYZ\n",
            "enter the key: 4\n",
            "{'a': 'W', 'b': 'X', 'c': 'Y', 'd': 'Z', 'e': 'a', 'f': 'b', 'g': 'c', 'h': 'd', 'i': 'e', 'j': 'f', 'k': 'g', 'l': 'h', 'm': 'i', 'n': 'j', 'o': 'k', 'p': 'l', 'q': 'm', 'r': 'n', 's': 'o', 't': 'p', 'u': 'q', 'v': 'r', 'w': 's', 'x': 't', 'y': 'u', 'z': 'v', 'A': 'w', 'B': 'x', 'C': 'y', 'D': 'z', 'E': 'A', 'F': 'B', 'G': 'C', 'H': 'D', 'I': 'E', 'J': 'F', 'K': 'G', 'L': 'H', 'M': 'I', 'N': 'J', 'O': 'K', 'P': 'L', 'Q': 'M', 'R': 'N', 'S': 'O', 'T': 'P', 'U': 'Q', 'V': 'R', 'W': 'S', 'X': 'T', 'Y': 'U', 'Z': 'V'}\n",
            "Enter the string to be encrypted: tanmay\n",
            "Cipher text is pWjiWu\n",
            "Recovered plain text is:  tanmay\n"
          ]
        }
      ]
    },
    {
      "cell_type": "code",
      "source": [
        "plain_txt= input(\"Enter plain text to be encrypted: \")    #input plain text\n",
        "\n",
        "#Key \n",
        "key= int(input(\"Enter key for encryption: \"))             #input the key \n",
        "\n",
        "plain_txt= list(plain_txt)                                #Converting plain_txt string to list\n",
        "cipher_txt=[]\n",
        "n=len(plain_txt)\n",
        "\n",
        "#plain_txt to cipher_txt\n",
        "for i in range(n):                                       #For loop to convert plain text which is in list to cipher text using a fixed key; i being the value of the string symbol - key mod(length)\n",
        "    temp= plain_txt[(i-key)%n]                           #Appending the cipher text using the formula\n",
        "    cipher_txt.append(temp)\n",
        "    \n",
        "cipher_txt=\"\".join(cipher_txt)\n",
        "print(cipher_txt)\n",
        "\n",
        "#cipher_txt to plain_txt\n",
        "cipher_txt= list(cipher_txt)\n",
        "retrieved_txt=[]\n",
        "for i in range(n):\n",
        "    temp1= cipher_txt[(i+key)%n]                         #Appending the new text using the same formula by just adding\n",
        "    retrieved_txt.append(temp1)\n",
        "    \n",
        "retrieved_txt=\"\".join(retrieved_txt)                      \n",
        "print(retrieved_txt)"
      ],
      "metadata": {
        "colab": {
          "base_uri": "https://localhost:8080/"
        },
        "id": "9vC3FqaDSBuY",
        "outputId": "aee5e182-2a27-4985-f428-2584fe1addc2"
      },
      "execution_count": 3,
      "outputs": [
        {
          "output_type": "stream",
          "name": "stdout",
          "text": [
            "Enter plain text to be encrypted: flash\n",
            "Enter key for encryption: 2\n",
            "shfla\n",
            "flash\n"
          ]
        }
      ]
    },
    {
      "cell_type": "markdown",
      "source": [
        "**CONCLUSION**\n",
        "* In this experiment, we learnt about the meaning and implementation of the substituition cipher and the transposition cipher.\n",
        "\n",
        "* We performed encryption and decryption by giving the string and the key to the program.\n",
        "\n",
        "* We  performed the encryption and decryption using the modulus formula."
      ],
      "metadata": {
        "id": "rMRostggSIg4"
      }
    }
  ]
}